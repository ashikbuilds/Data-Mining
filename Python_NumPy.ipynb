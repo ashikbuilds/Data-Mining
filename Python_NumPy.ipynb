{
  "nbformat": 4,
  "nbformat_minor": 0,
  "metadata": {
    "colab": {
      "provenance": []
    },
    "kernelspec": {
      "name": "python3",
      "display_name": "Python 3"
    },
    "language_info": {
      "name": "python"
    }
  },
  "cells": [
    {
      "cell_type": "code",
      "execution_count": null,
      "metadata": {
        "id": "bN1sXu6T5zDv"
      },
      "outputs": [],
      "source": [
        "import numpy as np"
      ]
    },
    {
      "cell_type": "markdown",
      "source": [
        "### Array Creation"
      ],
      "metadata": {
        "id": "Shl0tV8h7gtf"
      }
    },
    {
      "cell_type": "code",
      "source": [
        "a = np.array([1, 2, 3])        # Creates a 1D NumPy array from a list\n",
        "b = np.arange(5)               # 0 to 4\n",
        "c = np.zeros((2, 3))           # 2x3 matrix of 0s\n",
        "d = np.ones(4)                 # 1D array of 1s\n",
        "e = np.eye(3)                  # a 3x3 identity matrix\n",
        "f = np.random.randn(3, 4)      # Creates a 3x4 array of random numbers from standard normal distribution (mean=0, std=1)"
      ],
      "metadata": {
        "id": "nW3o2IDq5-gy"
      },
      "execution_count": null,
      "outputs": []
    },
    {
      "cell_type": "code",
      "source": [
        "print(\"3x3 Identity Matrix:\\n\", e)"
      ],
      "metadata": {
        "colab": {
          "base_uri": "https://localhost:8080/"
        },
        "id": "AZxt-ZxWDxrS",
        "outputId": "056dbae8-7d35-4cb4-df5f-7ee909119934"
      },
      "execution_count": null,
      "outputs": [
        {
          "output_type": "stream",
          "name": "stdout",
          "text": [
            "3x3 Identity Matrix:\n",
            " [[1. 0. 0. 0.]\n",
            " [0. 1. 0. 0.]\n",
            " [0. 0. 1. 0.]\n",
            " [0. 0. 0. 1.]]\n"
          ]
        }
      ]
    },
    {
      "cell_type": "markdown",
      "source": [
        "### Array Properties"
      ],
      "metadata": {
        "id": "Tch5MwxC7ltL"
      }
    },
    {
      "cell_type": "code",
      "source": [
        "print(a.shape, a.dtype, a.ndim, a.size)"
      ],
      "metadata": {
        "colab": {
          "base_uri": "https://localhost:8080/"
        },
        "id": "dsN8XrUn63xs",
        "outputId": "97414731-17f5-4e14-f68c-6760f612a5e8"
      },
      "execution_count": null,
      "outputs": [
        {
          "output_type": "stream",
          "name": "stdout",
          "text": [
            "(3,) int64 1 3\n"
          ]
        }
      ]
    },
    {
      "cell_type": "markdown",
      "source": [
        "### Indexing & Slicing"
      ],
      "metadata": {
        "id": "nDs2Zydp7o8T"
      }
    },
    {
      "cell_type": "code",
      "source": [
        "arr = np.arange(10)\n",
        "print(arr[2:7])     # slice\n",
        "print(arr[::-1])    # reverse"
      ],
      "metadata": {
        "colab": {
          "base_uri": "https://localhost:8080/"
        },
        "id": "O5H9jr-a7pvA",
        "outputId": "127654f8-c9b7-466f-edd9-ee38e8e67461"
      },
      "execution_count": null,
      "outputs": [
        {
          "output_type": "stream",
          "name": "stdout",
          "text": [
            "[2 3 4 5 6]\n",
            "[9 8 7 6 5 4 3 2 1 0]\n"
          ]
        }
      ]
    },
    {
      "cell_type": "markdown",
      "source": [
        "### Element-wise Operations"
      ],
      "metadata": {
        "id": "EWvOLfgZ94n-"
      }
    },
    {
      "cell_type": "code",
      "source": [
        "x = np.array([1, 2, 3])\n",
        "y = np.array([10, 20, 30])\n",
        "print(x + y)\n",
        "print(x * y)\n",
        "print(np.sqrt(x))"
      ],
      "metadata": {
        "colab": {
          "base_uri": "https://localhost:8080/"
        },
        "id": "FmhZHMra95iI",
        "outputId": "fb7fcef9-d507-4725-97bf-674a739bbe35"
      },
      "execution_count": null,
      "outputs": [
        {
          "output_type": "stream",
          "name": "stdout",
          "text": [
            "[11 22 33]\n",
            "[10 40 90]\n",
            "[1.         1.41421356 1.73205081]\n"
          ]
        }
      ]
    },
    {
      "cell_type": "markdown",
      "source": [
        "### Mini Task: Create a 1D array from 0 to 30 with step 2 and reshape it to a 2D array"
      ],
      "metadata": {
        "id": "5G0M9ukE_Er1"
      }
    },
    {
      "cell_type": "code",
      "source": [
        "array_step = np.arange(0, 31, 2)\n",
        "reshaped_array = array_step.reshape(4, 4)\n",
        "print(\"1D Array from 0 to 30 with step 2:\", array_step)\n",
        "print(\"Reshaped to 2D (4x4):\", reshaped_array)"
      ],
      "metadata": {
        "colab": {
          "base_uri": "https://localhost:8080/"
        },
        "id": "4GCEDBHs_Fp-",
        "outputId": "83a12987-43c8-4363-cc78-2c4d34e06418"
      },
      "execution_count": null,
      "outputs": [
        {
          "output_type": "stream",
          "name": "stdout",
          "text": [
            "1D Array from 0 to 30 with step 2: [ 0  2  4  6  8 10 12 14 16 18 20 22 24 26 28 30]\n",
            "Reshaped to 2D (4x4): [[ 0  2  4  6]\n",
            " [ 8 10 12 14]\n",
            " [16 18 20 22]\n",
            " [24 26 28 30]]\n"
          ]
        }
      ]
    },
    {
      "cell_type": "markdown",
      "source": [
        "### Reshaping and Aggregation"
      ],
      "metadata": {
        "id": "dO--jU5UAv7b"
      }
    },
    {
      "cell_type": "code",
      "source": [
        "a = np.arange(6).reshape(2, 3)\n",
        "print(a)\n",
        "b = np.array([1, 0, 1])\n",
        "print(a + b)  # Adds b to each row of a"
      ],
      "metadata": {
        "colab": {
          "base_uri": "https://localhost:8080/"
        },
        "id": "QEFcy1MAAw2U",
        "outputId": "1f9d6367-d0c9-484a-82b6-3d3d2af0f67b"
      },
      "execution_count": null,
      "outputs": [
        {
          "output_type": "stream",
          "name": "stdout",
          "text": [
            "[[0 1 2]\n",
            " [3 4 5]]\n",
            "[[1 1 3]\n",
            " [4 4 6]]\n"
          ]
        }
      ]
    },
    {
      "cell_type": "code",
      "source": [
        "print(a.sum(), a.mean(), a.std())\n",
        "print(a.sum(axis=0))  # column-wise sum"
      ],
      "metadata": {
        "colab": {
          "base_uri": "https://localhost:8080/"
        },
        "id": "ewtr1vp8Bc62",
        "outputId": "7bec4aa8-71b6-48b9-dcd6-bd8d53897936"
      },
      "execution_count": null,
      "outputs": [
        {
          "output_type": "stream",
          "name": "stdout",
          "text": [
            "15 2.5 1.707825127659933\n",
            "[3 5 7]\n"
          ]
        }
      ]
    },
    {
      "cell_type": "markdown",
      "source": [
        "Practice:\n",
        "- Create a 3x3 matrix of random numbers\n",
        "- Find its row-wise max and min"
      ],
      "metadata": {
        "id": "4C8TvQKECD3-"
      }
    },
    {
      "cell_type": "code",
      "source": [
        "# Create a 3x3 matrix of random numbers\n",
        "random_matrix = np.random.randn(3, 3)\n",
        "print(\"Random 3x3 matrix:\\n\", random_matrix)\n",
        "\n",
        "# Find row-wise max\n",
        "row_max = random_matrix.max(axis=1)\n",
        "print(\"\\nRow-wise max:\", row_max)\n",
        "\n",
        "# Find row-wise min\n",
        "row_min = random_matrix.min(axis=1)\n",
        "print(\"Row-wise min:\", row_min)\n"
      ],
      "metadata": {
        "colab": {
          "base_uri": "https://localhost:8080/"
        },
        "id": "WHjCkmO0CAur",
        "outputId": "54e3d78b-53fa-4c35-ed8f-00003f4ece02"
      },
      "execution_count": null,
      "outputs": [
        {
          "output_type": "stream",
          "name": "stdout",
          "text": [
            "Random 3x3 matrix:\n",
            " [[ 8.65922763e-01  8.85737551e-01  1.25202466e+00]\n",
            " [ 1.34316088e-01  6.68877741e-01  7.35362551e-05]\n",
            " [-2.93304907e-02  7.92827593e-01 -7.31696131e-01]]\n",
            "\n",
            "Row-wise max: [1.25202466 0.66887774 0.79282759]\n",
            "Row-wise min: [ 8.65922763e-01  7.35362551e-05 -7.31696131e-01]\n"
          ]
        }
      ]
    },
    {
      "cell_type": "markdown",
      "source": [
        "Quiz\n",
        "1. What is the shape of `np.arange(12).reshape(3, 4)`?\n",
        "2. Given `a = np.array([10, 20, 30])`, what is the output of `a > 15`?"
      ],
      "metadata": {
        "id": "HJ5qXxbECqqv"
      }
    },
    {
      "cell_type": "code",
      "source": [
        "a = np.array([10, 20, 30])\n",
        "print(a > 15)"
      ],
      "metadata": {
        "colab": {
          "base_uri": "https://localhost:8080/"
        },
        "id": "c4rN0_HzCspo",
        "outputId": "ec85910b-0247-4f41-fab8-3d6e556efc76"
      },
      "execution_count": null,
      "outputs": [
        {
          "output_type": "stream",
          "name": "stdout",
          "text": [
            "[False  True  True]\n"
          ]
        }
      ]
    }
  ]
}